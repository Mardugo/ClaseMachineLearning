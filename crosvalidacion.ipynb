{
  "nbformat": 4,
  "nbformat_minor": 0,
  "metadata": {
    "colab": {
      "name": "crosvalidacion.ipynb",
      "provenance": [],
      "include_colab_link": true
    },
    "kernelspec": {
      "name": "python3",
      "display_name": "Python 3"
    },
    "language_info": {
      "name": "python"
    }
  },
  "cells": [
    {
      "cell_type": "markdown",
      "metadata": {
        "id": "view-in-github",
        "colab_type": "text"
      },
      "source": [
        "<a href=\"https://colab.research.google.com/github/Mardugo/ClaseMachineLearning/blob/main/crosvalidacion.ipynb\" target=\"_parent\"><img src=\"https://colab.research.google.com/assets/colab-badge.svg\" alt=\"Open In Colab\"/></a>"
      ]
    },
    {
      "cell_type": "code",
      "metadata": {
        "id": "u-4070BesDi5"
      },
      "source": [
        "import numpy as np\n",
        "from sklearn.model_selection import train_test_split\n",
        "from sklearn import datasets\n",
        "from sklearn import svm"
      ],
      "execution_count": 1,
      "outputs": []
    },
    {
      "cell_type": "code",
      "metadata": {
        "colab": {
          "base_uri": "https://localhost:8080/"
        },
        "id": "voO6uHsVsaWU",
        "outputId": "12ed40d8-6f16-4faa-8d76-9be3b67d4413"
      },
      "source": [
        "X, y = datasets.load_iris(return_X_y=True)#Ojo, faltaría en este ejemplo escalizar los datos! no lo pongo solo para no enredar las cosas más\n",
        "print(X.shape, y.shape)"
      ],
      "execution_count": 2,
      "outputs": [
        {
          "output_type": "stream",
          "name": "stdout",
          "text": [
            "(150, 4) (150,)\n"
          ]
        }
      ]
    },
    {
      "cell_type": "code",
      "metadata": {
        "colab": {
          "base_uri": "https://localhost:8080/"
        },
        "id": "cEFaWVc0sgom",
        "outputId": "dba3e076-5a9b-420d-e95b-9c53be35cd91"
      },
      "source": [
        "X_train, X_test, y_train, y_test = train_test_split(X, y, test_size=0.4, random_state=1)\n",
        "print(\"Train: \",X_train.shape, y_train.shape)\n",
        "print(\"Test: \",X_test.shape, y_test.shape)\n",
        "# aqui me haría falta escalizar los datos, y como no se pues un standardscaler!\n",
        "# les!y me faltaria tambien hacer un análisis de componentes principa"
      ],
      "execution_count": 19,
      "outputs": [
        {
          "output_type": "stream",
          "name": "stdout",
          "text": [
            "Train:  (90, 4) (90,)\n",
            "Test:  (60, 4) (60,)\n"
          ]
        }
      ]
    },
    {
      "cell_type": "code",
      "metadata": {
        "colab": {
          "base_uri": "https://localhost:8080/"
        },
        "id": "eH9aCYkTswOJ",
        "outputId": "0d716f7f-3a61-46e6-ff86-c3c5dd1fff79"
      },
      "source": [
        "clf = svm.SVC(kernel='linear', C=1).fit(X_train, y_train)\n",
        "print(\"score: \",clf.score(X_test, y_test))"
      ],
      "execution_count": 20,
      "outputs": [
        {
          "output_type": "stream",
          "name": "stdout",
          "text": [
            "score:  0.9833333333333333\n"
          ]
        }
      ]
    },
    {
      "cell_type": "markdown",
      "metadata": {
        "id": "TnWA98PkIJdH"
      },
      "source": [
        "Crros-Validacion"
      ]
    },
    {
      "cell_type": "code",
      "metadata": {
        "colab": {
          "base_uri": "https://localhost:8080/"
        },
        "id": "3FWwqM_IH-vZ",
        "outputId": "eeaa34f8-e72a-4502-a9ba-e715ccff3f8e"
      },
      "source": [
        "from sklearn.model_selection import cross_val_score\n",
        "\n",
        "\n",
        "#faltaría un bucle por ejemplo variando \n",
        "C=[0.001, 0.01, 0.1, 1, 10]\n",
        "for c in C:\n",
        "  clf = svm.SVC(kernel='linear', C=c, random_state=666)\n",
        "  #si quieren variar la semilla del cross_val_score toca variar la de numpy!!!\n",
        "  scores = cross_val_score(clf, X, y, cv=5,scoring='balanced_accuracy')\n",
        "  print(scores)"
      ],
      "execution_count": 38,
      "outputs": [
        {
          "output_type": "stream",
          "name": "stdout",
          "text": [
            "[0.86666667 0.96666667 0.83333333 0.96666667 0.93333333]\n",
            "[0.9        0.96666667 0.86666667 0.96666667 0.9       ]\n",
            "[0.96666667 0.96666667 0.96666667 0.96666667 1.        ]\n",
            "[0.96666667 1.         0.96666667 0.96666667 1.        ]\n",
            "[1.         1.         0.9        0.96666667 1.        ]\n"
          ]
        }
      ]
    },
    {
      "cell_type": "code",
      "metadata": {
        "colab": {
          "base_uri": "https://localhost:8080/"
        },
        "id": "t37jSH1KH-49",
        "outputId": "9bdef541-6bc0-404b-806a-d4dee8fc2499"
      },
      "source": [
        "for c in C:\n",
        "  print(\"en total se tiene un %0.2f accuracy con una desviación estandard de %0.2f usando %d-plieges\" % (scores.mean(), scores.std(),len(scores)))"
      ],
      "execution_count": 36,
      "outputs": [
        {
          "output_type": "stream",
          "name": "stdout",
          "text": [
            "en total se tiene un 0.97 accuracy con una desviación estandard de 0.04 usando 5-plieges\n",
            "en total se tiene un 0.97 accuracy con una desviación estandard de 0.04 usando 5-plieges\n",
            "en total se tiene un 0.97 accuracy con una desviación estandard de 0.04 usando 5-plieges\n",
            "en total se tiene un 0.97 accuracy con una desviación estandard de 0.04 usando 5-plieges\n",
            "en total se tiene un 0.97 accuracy con una desviación estandard de 0.04 usando 5-plieges\n"
          ]
        }
      ]
    },
    {
      "cell_type": "code",
      "metadata": {
        "colab": {
          "base_uri": "https://localhost:8080/"
        },
        "id": "BTU_7E4jH_AO",
        "outputId": "2c4c544e-c017-48d1-9fb5-27fd44ab3f05"
      },
      "source": [
        "#Ejercicio: ver el parámetro scoring de \n",
        "# ver: https://scikit-learn.org/stable/modules/model_evaluation.html#scoring-parameter\n",
        "from sklearn import metrics\n",
        "scores = cross_val_score(clf, X, y, cv=5, scoring='f1_macro')\n",
        "print(scores)\n",
        "print(\"en total se tiene un %0.2f f1_macro con una desviación estandard de %0.2f usando %d-plieges\" % (scores.mean(), scores.std(),len(scores)))"
      ],
      "execution_count": null,
      "outputs": [
        {
          "output_type": "stream",
          "name": "stdout",
          "text": [
            "[0.96658312 1.         0.96658312 0.96658312 1.        ]\n",
            "en total se tiene un 0.98 f1_macro con una desviación estandard de 0.02 usando 5-plieges\n"
          ]
        }
      ]
    },
    {
      "cell_type": "markdown",
      "metadata": {
        "id": "tzck-gQGKkc0"
      },
      "source": [
        "La función cross_validate se diferencia de cross_val_score de dos formas:\n",
        "\n",
        "Permite especificar múltiples métricas para su evaluación.\n",
        "\n",
        "Devuelve un dict que contiene tiempos de ajuste, tiempos de puntuación (fit-times, score-times) (y, opcionalmente, puntuaciones de entrenamiento, así como estimadores ajustados) además de la puntuación de la prueba."
      ]
    },
    {
      "cell_type": "code",
      "metadata": {
        "colab": {
          "base_uri": "https://localhost:8080/"
        },
        "id": "4LjDxHHqKlUy",
        "outputId": "f73fffb6-0223-4bee-8607-4c9487ba378c"
      },
      "source": [
        "from sklearn.model_selection import cross_validate\n",
        "#https://scikit-learn.org/stable/modules/generated/sklearn.model_selection.cross_validate.html#sklearn.model_selection.cross_validate\n",
        "from sklearn.metrics import recall_score\n",
        "scoring = ['f1_macro', 'accuracy']\n",
        "clf = svm.SVC(kernel='linear', C=1, random_state=0)\n",
        "scores = cross_validate(clf, X, y, cv=10, scoring=scoring)\n",
        "print(scores)\n",
        "sorted(scores.keys())\n",
        "print(scores['test_f1_macro'])"
      ],
      "execution_count": 49,
      "outputs": [
        {
          "output_type": "stream",
          "name": "stdout",
          "text": [
            "{'fit_time': array([0.00214338, 0.00168347, 0.00078678, 0.00078583, 0.00074482,\n",
            "       0.00088525, 0.00077534, 0.00076246, 0.00073218, 0.00074697]), 'score_time': array([0.00222492, 0.00098014, 0.00092459, 0.00093699, 0.00091195,\n",
            "       0.00086808, 0.00085258, 0.00089431, 0.00084615, 0.00087023]), 'test_f1_macro': array([1.        , 0.93265993, 1.        , 1.        , 0.86111111,\n",
            "       1.        , 0.93265993, 1.        , 1.        , 1.        ]), 'test_accuracy': array([1.        , 0.93333333, 1.        , 1.        , 0.86666667,\n",
            "       1.        , 0.93333333, 1.        , 1.        , 1.        ])}\n",
            "[1.         0.93265993 1.         1.         0.86111111 1.\n",
            " 0.93265993 1.         1.         1.        ]\n"
          ]
        }
      ]
    }
  ]
}