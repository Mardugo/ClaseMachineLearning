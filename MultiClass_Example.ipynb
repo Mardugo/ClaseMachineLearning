{
  "nbformat": 4,
  "nbformat_minor": 0,
  "metadata": {
    "colab": {
      "name": "MultiClass_Example.ipynb",
      "provenance": [],
      "authorship_tag": "ABX9TyPwy2pPVaHh93dJwzN6nwVj",
      "include_colab_link": true
    },
    "kernelspec": {
      "name": "python3",
      "display_name": "Python 3"
    },
    "language_info": {
      "name": "python"
    }
  },
  "cells": [
    {
      "cell_type": "markdown",
      "metadata": {
        "id": "view-in-github",
        "colab_type": "text"
      },
      "source": [
        "<a href=\"https://colab.research.google.com/github/Mardugo/ClaseMachineLearning/blob/main/MultiClass_Example.ipynb\" target=\"_parent\"><img src=\"https://colab.research.google.com/assets/colab-badge.svg\" alt=\"Open In Colab\"/></a>"
      ]
    },
    {
      "cell_type": "code",
      "metadata": {
        "id": "GvKGR24d_8hZ"
      },
      "source": [
        "from sklearn.datasets import load_iris\n",
        "from sklearn.linear_model import LogisticRegression"
      ],
      "execution_count": 1,
      "outputs": []
    },
    {
      "cell_type": "code",
      "metadata": {
        "colab": {
          "base_uri": "https://localhost:8080/"
        },
        "id": "g_rGaSDFAI4s",
        "outputId": "2f29fe47-df59-4e19-a038-426f6de79653"
      },
      "source": [
        "X, y = load_iris(return_X_y=True)\n",
        "print(X.shape)\n",
        "print(y.shape)"
      ],
      "execution_count": 8,
      "outputs": [
        {
          "output_type": "stream",
          "name": "stdout",
          "text": [
            "(150, 4)\n",
            "(150,)\n"
          ]
        }
      ]
    },
    {
      "cell_type": "code",
      "metadata": {
        "colab": {
          "base_uri": "https://localhost:8080/"
        },
        "id": "f4c-q_e3A6yG",
        "outputId": "921174c4-4c45-4c58-cb70-01200d794494"
      },
      "source": [
        "clf = LogisticRegression(random_state=0, multi_class='ovr', solver='newton-cg', max_iter=10000)\n",
        "clf.fit(X, y)"
      ],
      "execution_count": 29,
      "outputs": [
        {
          "output_type": "execute_result",
          "data": {
            "text/plain": [
              "LogisticRegression(C=1.0, class_weight=None, dual=False, fit_intercept=True,\n",
              "                   intercept_scaling=1, l1_ratio=None, max_iter=10000,\n",
              "                   multi_class='ovr', n_jobs=None, penalty='l2', random_state=0,\n",
              "                   solver='newton-cg', tol=0.0001, verbose=0, warm_start=False)"
            ]
          },
          "metadata": {},
          "execution_count": 29
        }
      ]
    },
    {
      "cell_type": "code",
      "metadata": {
        "colab": {
          "base_uri": "https://localhost:8080/"
        },
        "id": "EFKH6a3PBheK",
        "outputId": "1d016c7c-f53e-4b9b-fcab-0a3cd6b6f9b9"
      },
      "source": [
        "print(X[4:7, :])\n",
        "print(\"Predicción:\",clf.predict(X[4:7, :]))\n",
        "print(\"Valor real:\",y[4:7])\n",
        "print(clf.predict_proba(X[:2, :]))\n"
      ],
      "execution_count": 30,
      "outputs": [
        {
          "output_type": "stream",
          "name": "stdout",
          "text": [
            "[[5.  3.6 1.4 0.2]\n",
            " [5.4 3.9 1.7 0.4]\n",
            " [4.6 3.4 1.4 0.3]]\n",
            "Predicción: [0 0 0]\n",
            "Valor real: [0 0 0]\n",
            "[[8.96807226e-01 1.03191701e-01 1.07227967e-06]\n",
            " [7.78981601e-01 2.21017087e-01 1.31178690e-06]]\n"
          ]
        }
      ]
    },
    {
      "cell_type": "code",
      "metadata": {
        "colab": {
          "base_uri": "https://localhost:8080/"
        },
        "id": "PIgwk0A4BvYN",
        "outputId": "548fe0ec-2293-4a31-bfc5-c9d4691e3c15"
      },
      "source": [
        "clf.score(X, y)"
      ],
      "execution_count": 31,
      "outputs": [
        {
          "output_type": "execute_result",
          "data": {
            "text/plain": [
              "0.9533333333333334"
            ]
          },
          "metadata": {},
          "execution_count": 31
        }
      ]
    }
  ]
}