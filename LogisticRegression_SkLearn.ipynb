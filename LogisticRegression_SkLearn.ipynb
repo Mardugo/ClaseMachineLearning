{
  "nbformat": 4,
  "nbformat_minor": 0,
  "metadata": {
    "colab": {
      "name": "LogisticRegression_SkLearn.ipynb",
      "provenance": [],
      "authorship_tag": "ABX9TyPObtfwYez+oWsH0ZApXbtq",
      "include_colab_link": true
    },
    "kernelspec": {
      "name": "python3",
      "display_name": "Python 3"
    },
    "language_info": {
      "name": "python"
    }
  },
  "cells": [
    {
      "cell_type": "markdown",
      "metadata": {
        "id": "view-in-github",
        "colab_type": "text"
      },
      "source": [
        "<a href=\"https://colab.research.google.com/github/Mardugo/ClaseMachineLearning/blob/main/LogisticRegression_SkLearn.ipynb\" target=\"_parent\"><img src=\"https://colab.research.google.com/assets/colab-badge.svg\" alt=\"Open In Colab\"/></a>"
      ]
    },
    {
      "cell_type": "code",
      "metadata": {
        "id": "j7iNlW-IEDsn"
      },
      "source": [
        "import numpy as np\n",
        "from sklearn.linear_model import LogisticRegression\n",
        "import matplotlib.pyplot as plt"
      ],
      "execution_count": 39,
      "outputs": []
    },
    {
      "cell_type": "code",
      "metadata": {
        "colab": {
          "base_uri": "https://localhost:8080/"
        },
        "id": "z4woiGdHEMrs",
        "outputId": "522fda24-0967-46a6-b702-d175206e4b87"
      },
      "source": [
        "X=np.asmatrix([[1,0,0,0],[1,1,1,1],[1,-1,1,1],[1,-2,1,4],[1,0,-1,0],[1,2,1,4]])\n",
        "y=np.asmatrix([0,0,0,1,1,1]).T\n",
        "print(X)\n",
        "print(y)"
      ],
      "execution_count": 40,
      "outputs": [
        {
          "output_type": "stream",
          "name": "stdout",
          "text": [
            "[[ 1  0  0  0]\n",
            " [ 1  1  1  1]\n",
            " [ 1 -1  1  1]\n",
            " [ 1 -2  1  4]\n",
            " [ 1  0 -1  0]\n",
            " [ 1  2  1  4]]\n",
            "[[0]\n",
            " [0]\n",
            " [0]\n",
            " [1]\n",
            " [1]\n",
            " [1]]\n"
          ]
        }
      ]
    },
    {
      "cell_type": "code",
      "metadata": {
        "colab": {
          "base_uri": "https://localhost:8080/",
          "height": 265
        },
        "id": "18_w6vv6FuMT",
        "outputId": "e0d371a7-8d75-48aa-c2b2-7bfdfcae6cf7"
      },
      "source": [
        "plt.scatter(np.asarray(X[:,1][0:3]),np.asarray(X[:,2][0:3]),color='b')\n",
        "plt.scatter(np.asarray(X[:,1][3:6]),np.asarray(X[:,2][3:6]),color='r')\n",
        "plt.grid(True)\n",
        "plt.show()"
      ],
      "execution_count": 41,
      "outputs": [
        {
          "output_type": "display_data",
          "data": {
            "image/png": "[encoded data removed]",
            "text/plain": [
              "<Figure size 432x288 with 1 Axes>"
            ]
          },
          "metadata": {
            "needs_background": "light"
          }
        }
      ]
    },
    {
      "cell_type": "code",
      "metadata": {
        "colab": {
          "base_uri": "https://localhost:8080/"
        },
        "id": "6ubIcQvPFGx2",
        "outputId": "cfb33e62-0ba3-4b57-9589-178ab4387538"
      },
      "source": [
        "clf = LogisticRegression(random_state=100, solver='liblinear', max_iter=1000000).fit(X, np.ravel(y))\n",
        "print(\"Real output:\",np.ravel(y))\n",
        "print(\"Predicted:\",clf.predict(X))"
      ],
      "execution_count": 42,
      "outputs": [
        {
          "output_type": "stream",
          "name": "stdout",
          "text": [
            "Real output: [0 0 0 1 1 1]\n",
            "Predicted: [0 0 0 1 1 1]\n"
          ]
        }
      ]
    },
    {
      "cell_type": "code",
      "metadata": {
        "colab": {
          "base_uri": "https://localhost:8080/"
        },
        "id": "BGKmCDcHG3M9",
        "outputId": "3ceec032-f3c2-4b86-9cd4-1a9013223590"
      },
      "source": [
        "clf.get_params()"
      ],
      "execution_count": 43,
      "outputs": [
        {
          "output_type": "execute_result",
          "data": {
            "text/plain": [
              "{'C': 1.0,\n",
              " 'class_weight': None,\n",
              " 'dual': False,\n",
              " 'fit_intercept': True,\n",
              " 'intercept_scaling': 1,\n",
              " 'l1_ratio': None,\n",
              " 'max_iter': 1000000,\n",
              " 'multi_class': 'auto',\n",
              " 'n_jobs': None,\n",
              " 'penalty': 'l2',\n",
              " 'random_state': 100,\n",
              " 'solver': 'liblinear',\n",
              " 'tol': 0.0001,\n",
              " 'verbose': 0,\n",
              " 'warm_start': False}"
            ]
          },
          "metadata": {},
          "execution_count": 43
        }
      ]
    },
    {
      "cell_type": "code",
      "metadata": {
        "colab": {
          "base_uri": "https://localhost:8080/"
        },
        "id": "JHAtMy-1IZLE",
        "outputId": "089d84b0-27ce-483a-80c0-7543e7db211f"
      },
      "source": [
        "tetha = np.ravel(clf.coef_)\n",
        "print(\"Parameters:\",tetha)"
      ],
      "execution_count": 44,
      "outputs": [
        {
          "output_type": "stream",
          "name": "stdout",
          "text": [
            "Parameters: [-0.27321058  0.         -0.78686795  0.71703134]\n"
          ]
        }
      ]
    },
    {
      "cell_type": "code",
      "metadata": {
        "colab": {
          "base_uri": "https://localhost:8080/",
          "height": 265
        },
        "id": "Am2xBp8F7RJk",
        "outputId": "4668c28f-015b-44cd-c954-d36cbff1b2b1"
      },
      "source": [
        "plt.scatter(np.asarray(X[:,1][0:3]),np.asarray(X[:,2][0:3]),color='b')\n",
        "plt.scatter(np.asarray(X[:,1][3:6]),np.asarray(X[:,2][3:6]),color='r')\n",
        "plt.grid(True)\n",
        "### Graficando y = f(x)\n",
        "x = np.arange(-2.5,2.5,0.05)\n",
        "y = (tetha[0]+tetha[1]*x+tetha[3]*np.power(x,2))/(-tetha[2])\n",
        "plt.plot(x,y)\n",
        "\n",
        "plt.grid(True)\n",
        "plt.show()\n"
      ],
      "execution_count": 45,
      "outputs": [
        {
          "output_type": "display_data",
          "data": {
            "image/png": "[encoded data removed]",
            "text/plain": [
              "<Figure size 432x288 with 1 Axes>"
            ]
          },
          "metadata": {
            "needs_background": "light"
          }
        }
      ]
    },
    {
      "cell_type": "code",
      "metadata": {
        "colab": {
          "base_uri": "https://localhost:8080/"
        },
        "id": "vrtRsfwsIZwO",
        "outputId": "ccc46eb6-0876-4d28-8caa-0a66712bb08e"
      },
      "source": [
        "clf.intercept_"
      ],
      "execution_count": 8,
      "outputs": [
        {
          "output_type": "execute_result",
          "data": {
            "text/plain": [
              "array([-0.89951099])"
            ]
          },
          "metadata": {},
          "execution_count": 8
        }
      ]
    }
  ]
}